{
 "cells": [
  {
   "cell_type": "code",
   "execution_count": 1,
   "metadata": {},
   "outputs": [],
   "source": [
    "import burdock\n",
    "# Placeholder name for our proposed implementation \n",
    "# of OpenDP(in design)"
   ]
  },
  {
   "cell_type": "markdown",
   "metadata": {},
   "source": [
    "# Executing burdock modules"
   ]
  },
  {
   "cell_type": "code",
   "execution_count": 2,
   "metadata": {},
   "outputs": [],
   "source": [
    "import json\n",
    "\n",
    "from burdock.client import get_execution_client\n",
    "execution_client = get_execution_client()"
   ]
  },
  {
   "cell_type": "code",
   "execution_count": 4,
   "metadata": {},
   "outputs": [
    {
     "data": {
      "text/plain": [
       "{'release': 0.1329770995690811,\n",
       " 'variable': 'a',\n",
       " 'accuracy': 29.957322735539908,\n",
       " 'epsilon': 0.2,\n",
       " 'interval': [-28.957322735539908, 30.957322735539908]}"
      ]
     },
     "execution_count": 4,
     "metadata": {},
     "output_type": "execute_result"
    }
   ],
   "source": [
    "params = {\"dataset_name\": \"example\",\n",
    "          \"column_name\": \"a\",\n",
    "          \"budget\": .2}\n",
    "uri = \"modules/psi-count-module\"\n",
    "\n",
    "burdock.validate(params=params, uri=uri)  # ADDED analyst machine\n",
    "response = execution_client.submit(params=params, uri=uri)\n",
    "report = json.loads(response.result)\n",
    "# answer is 1, to avoid privacy loss the interval \n",
    "# and noise applied is high"
   ]
  },
  {
   "cell_type": "code",
   "execution_count": null,
   "metadata": {},
   "outputs": [],
   "source": [
    "# Internally validates\n",
    "report = burdock.count(dataset_name=\"example\",\n",
    "                       column_name=\"a\",\n",
    "                       budget=.2)"
   ]
  },
  {
   "cell_type": "markdown",
   "metadata": {},
   "source": [
    "# Example top level module code\n",
    "## The first cell is custom logic for the module"
   ]
  },
  {
   "cell_type": "code",
   "execution_count": 18,
   "metadata": {},
   "outputs": [],
   "source": [
    "from abc import ABCMeta, abstractmethod\n",
    "import math\n",
    "import logging\n",
    "\n",
    "from burdock.mechanisms.laplace import evaluate\n",
    "\n",
    "logger = logging.getLogger(__name__)\n",
    "\n",
    "\n",
    "class Statistic(object):\n",
    "\n",
    "    __metaclass__ = ABCMeta\n",
    "\n",
    "    def __init__(self, release, variable, accuracy, epsilon, interval):\n",
    "        self._release = release\n",
    "        self._variable = variable\n",
    "        self._accuracy = accuracy\n",
    "        self._epsilon = epsilon\n",
    "        self._interval = interval\n",
    "\n",
    "    @property\n",
    "    def release(self):\n",
    "        return self._release\n",
    "\n",
    "    @property\n",
    "    def variable(self):\n",
    "        return self._variable\n",
    "\n",
    "    @property\n",
    "    def accuracy(self):\n",
    "        return self._accuracy\n",
    "\n",
    "    @property\n",
    "    def epsilon(self):\n",
    "        return self._epsilon\n",
    "\n",
    "    @property\n",
    "    def interval(self):\n",
    "        return self._interval\n",
    "\n",
    "    def as_dict(self):\n",
    "        return {\"release\": self._release,\n",
    "                \"variable\": self._variable,\n",
    "                \"accuracy\": self._accuracy,\n",
    "                \"epsilon\": self._epsilon,\n",
    "                \"interval\": self._interval}\n",
    "\n",
    "\n",
    "class Computer(object):\n",
    "\n",
    "    __metaclass__ = ABCMeta\n",
    "\n",
    "    @abstractmethod\n",
    "    def release(self, dataset):\n",
    "        pass\n",
    "\n",
    "    @staticmethod\n",
    "    def get_subclasses():\n",
    "        subclasses = Computer.__subclasses__()\n",
    "        # Return dictionary with key value pairs from subclass name to subclass\n",
    "        return {subclass.__name__.lower(): subclass for subclass in subclasses}\n",
    "\n",
    "\n",
    "class CountResult(Statistic):\n",
    "    def __init__(self, count_release, variable, accuracy, epsilon, interval):\n",
    "        super(CountResult, self).__init__(count_release, variable, accuracy, epsilon, interval)\n",
    "        self._count_release = count_release\n",
    "\n",
    "\n",
    "class Count(Computer):\n",
    "    def __init__(self, column, epsilon):\n",
    "        self._column = column\n",
    "        self._epsilon = epsilon\n",
    "\n",
    "    def _compute_accuracy(self, epsilon, stability=None, delta=10^-6, alpha=0.05):\n",
    "        if stability:\n",
    "            return 2 * math.log(2 / (alpha * delta)) / epsilon\n",
    "        else:\n",
    "            return 2 * math.log(1 / alpha) / epsilon\n",
    "\n",
    "    def release(self, dataset):\n",
    "        # get the column count\n",
    "        num_obs = dataset.shape[0]\n",
    "        # obfuscate the count\n",
    "        sens = 2\n",
    "        noise = evaluate(sens, self._epsilon)\n",
    "        count_release = num_obs + noise\n",
    "        # calculate accuracy from epsilon\n",
    "        accuracy = self._compute_accuracy(self._epsilon)\n",
    "        accuracy_bound = accuracy * num_obs\n",
    "        mci = [num_obs - accuracy_bound, num_obs + accuracy_bound]\n",
    "        return CountResult(count_release, self._column, accuracy, self._epsilon, mci)"
   ]
  },
  {
   "cell_type": "markdown",
   "metadata": {},
   "source": [
    "## The second cell is the entrypoint script"
   ]
  },
  {
   "cell_type": "code",
   "execution_count": 19,
   "metadata": {},
   "outputs": [
    {
     "data": {
      "text/plain": [
       "{'release': 1.432349772599651,\n",
       " 'variable': 'a',\n",
       " 'accuracy': 5.991464547107982,\n",
       " 'epsilon': 1,\n",
       " 'interval': [-4.991464547107982, 6.991464547107982]}"
      ]
     },
     "execution_count": 19,
     "metadata": {},
     "output_type": "execute_result"
    }
   ],
   "source": [
    "# Module code ran through ES \n",
    "\n",
    "import mlflow\n",
    "import json\n",
    "import sys\n",
    "\n",
    "#  from statistic import Count # static was copied above to run in the notebook\n",
    "from burdock.client import get_dataset_client\n",
    "from burdock.data.adapters import load_dataset\n",
    "\n",
    "\n",
    "dataset_name = \"example\"\n",
    "column_name = \"a\"\n",
    "budget = 1\n",
    "\n",
    "\n",
    "with mlflow.start_run():\n",
    "    df = load_dataset(get_dataset_client().read(dataset_name, budget))\n",
    "    statistic = Count(column_name, budget).release(df)\n",
    "\n",
    "    with open(\"result.json\", \"w\") as stream:\n",
    "        json.dump(statistic.as_dict(), stream)\n",
    "    mlflow.log_artifact(\"result.json\")\n",
    "    \n",
    "# Added to showcase what is stored in result.json\n",
    "statistic.as_dict()"
   ]
  },
  {
   "cell_type": "code",
   "execution_count": null,
   "metadata": {},
   "outputs": [],
   "source": []
  }
 ],
 "metadata": {
  "kernelspec": {
   "display_name": "Python 3",
   "language": "python",
   "name": "python3"
  },
  "language_info": {
   "codemirror_mode": {
    "name": "ipython",
    "version": 3
   },
   "file_extension": ".py",
   "mimetype": "text/x-python",
   "name": "python",
   "nbconvert_exporter": "python",
   "pygments_lexer": "ipython3",
   "version": "3.7.6"
  }
 },
 "nbformat": 4,
 "nbformat_minor": 2
}
