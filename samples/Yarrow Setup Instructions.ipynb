{
 "cells": [
  {
   "cell_type": "markdown",
   "metadata": {},
   "source": [
    "### Ubuntu Installation"
   ]
  },
  {
   "cell_type": "markdown",
   "metadata": {},
   "source": [
    "In order for setting up Yarrow on a new Ubuntu machine, here are the steps followed - \n",
    "* Create a VM or get a physical machine where you can install Ubuntu 18.04\n",
    "* Download Ubuntu from [here](https://ubuntu.com/download/desktop) and flash it on a USB drive to create a bootable USB. Refernce instructions [here](https://vitux.com/how-to-create-a-bootable-usb-stick-from-the-ubuntu-terminal/)\n",
    "<pre>\n",
    "sudo dd bs=4M if=/home/ankit/Downloads/ubuntu-18.04.2-live-server-amd64.iso of=/dev/sdb status=progress oflag=sync\n",
    "</pre>\n",
    "* Boot from USB and install Ubuntu 18.04"
   ]
  },
  {
   "cell_type": "markdown",
   "metadata": {},
   "source": [
    "### Yarrow setup\n",
    "#### Instructions"
   ]
  },
  {
   "cell_type": "markdown",
   "metadata": {},
   "source": [
    "* Install Protobuf Compiler using [instructions](https://github.com/privacytoolsproject/yarrow/blob/master/README.md)\n",
    "\n",
    "* Install Rust and Set nightly channel using command [here](https://www.rust-lang.org/tools/install)\n",
    "<pre>rustup override set nightly</pre>\n",
    "* Clone Yarrow and Datasets Repos<br/>\n",
    "<pre>\n",
    "git clone https://github.com/privacytoolsproject/datasets.git\n",
    "git clone https://github.com/privacytoolsproject/yarrow.git\n",
    "</pre>\n",
    "\n",
    "* Compile Yarrow and Yarrow Python Bindings\n",
    "<pre>\n",
    "cd yarrow/validator-rust\n",
    "cargo +nightly build --release\n",
    "cargo test\n",
    "cd ../runtime-rust\n",
    "cargo +nightly build --release\n",
    "cargo test\n",
    "cd ../bindings-python\n",
    "source install.sh\n",
    "</pre>\n",
    "\n",
    "* Edit tests/test_base.py to fix path to datasets\n",
    "<pre>python3 -m pytest</pre>\n",
    "\n",
    "* Write some code to call a Yarrow release from Python - [Sample](https://github.com/privacytoolsproject/burdock/blob/yarrow_test/tests/yar.py)"
   ]
  },
  {
   "cell_type": "markdown",
   "metadata": {},
   "source": [
    "#### Workarounds"
   ]
  },
  {
   "cell_type": "markdown",
   "metadata": {},
   "source": [
    "The cbindgen custom build step is used to generate the api.h file for each of the two rust modules.  Since the api.h is included in the repo, we don’t actually need to generate it.\n",
    "\n",
    "So you can edit both build.rs files (in runtime and validator folders).  Just comment out the whole cbindgen function call.  For example:\n",
    "<pre>\n",
    "//    cbindgen::generate_with_config(\n",
    "//        crate_dir,\n",
    "//        cbindgen::Config::from_file(\"cbindgen.toml\").unwrap())\n",
    "//        .expect(\"Unable to generate bindings\")\n",
    "//        .write_to_file(\"api.h\");\n",
    "</pre>\n",
    "Then you can follow the steps as below.  \n",
    "<pre>\n",
    "sudo apt-get install pkg-config libssl-dev python3-pip\n",
    "</pre>\n",
    "I got a permission denied on the python-bindings install step.  If you get the same error, you can force it to install the yarrow python binding in your user folder by editing install.sh.  Final line should add –user, like:\n",
    "\n",
    "<pre>python3 setup.py develop --user</pre>\n",
    "\n",
    "Also, when installing the python bindings, you might be missing some dependencies for the unit test to work.  If so, you can do (from the bindings-python folder):\n",
    "\n",
    "<pre>\n",
    "python3 -m pip install -r requirements.txt\n",
    "python3 -m pip install numpy matplotlib networkx\n",
    "</pre>"
   ]
  },
  {
   "cell_type": "code",
   "execution_count": null,
   "metadata": {},
   "outputs": [],
   "source": []
  }
 ],
 "metadata": {
  "kernelspec": {
   "display_name": "Python 3",
   "language": "python",
   "name": "python3"
  },
  "language_info": {
   "codemirror_mode": {
    "name": "ipython",
    "version": 3
   },
   "file_extension": ".py",
   "mimetype": "text/x-python",
   "name": "python",
   "nbconvert_exporter": "python",
   "pygments_lexer": "ipython3",
   "version": "3.6.9"
  }
 },
 "nbformat": 4,
 "nbformat_minor": 2
}
